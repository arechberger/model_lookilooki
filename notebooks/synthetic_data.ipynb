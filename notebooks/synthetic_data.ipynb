{
 "cells": [
  {
   "cell_type": "code",
   "execution_count": 17,
   "metadata": {},
   "outputs": [],
   "source": [
    "import skimage.draw as draw\n",
    "import numpy as np\n",
    "import matplotlib.pyplot as plt\n",
    "import matplotlib as mpl\n",
    "mpl.rc('image', cmap='gray')\n",
    "import random\n",
    "import pickle\n",
    "import bz2"
   ]
  },
  {
   "cell_type": "code",
   "execution_count": 18,
   "metadata": {},
   "outputs": [],
   "source": [
    "def generate_synth_image():\n",
    "    image = np.ones([128,128],np.uint8)\n",
    "    for i in range(10):\n",
    "        [x,y] = draw.circle(random.uniform(7,120),random.uniform(7,120),7)\n",
    "        image[x,y] = 0\n",
    "    tric = (random.uniform(10,117),random.uniform(10,117))\n",
    "    [x,y] = draw.polygon([tric[1]+5,tric[1]-5,tric[1]+5],[tric[0]-10,tric[0],tric[0]+10])\n",
    "    image[x,y] = 0\n",
    "    return image"
   ]
  },
  {
   "cell_type": "code",
   "execution_count": 19,
   "metadata": {},
   "outputs": [],
   "source": [
    "def get_synth_dataset(n_up, n_down, n_left, n_right):\n",
    "    ds = [generate_synth_image() for i in range(n_up)]\n",
    "    labels = np.zeros(n_up)\n",
    "    ds += [np.flipud(generate_synth_image()) for i in range(n_down)]\n",
    "    labels = np.hstack((labels,np.ones(n_down)))\n",
    "    ds += [generate_synth_image().T for i in range(n_left)]\n",
    "    labels = np.hstack((labels,np.ones(n_left)*2))\n",
    "    ds += [np.fliplr(generate_synth_image().T) for i in range(n_right)]    \n",
    "    labels = np.hstack((labels,np.ones(n_right)*3))\n",
    "    return list(zip(np.asarray(ds),labels))"
   ]
  },
  {
   "cell_type": "code",
   "execution_count": 20,
   "metadata": {},
   "outputs": [],
   "source": [
    "train_ds = get_synth_dataset(800,800,800,800)\n",
    "test_ds = get_synth_dataset(50,50,50,50)"
   ]
  },
  {
   "cell_type": "code",
   "execution_count": 21,
   "metadata": {},
   "outputs": [],
   "source": [
    "pickle.dump(train_ds,bz2.BZ2File('../data/train.pickle.bz2','w'))\n",
    "pickle.dump(test_ds,bz2.BZ2File('../data/test.pickle.bz2','w'))"
   ]
  },
  {
   "cell_type": "code",
   "execution_count": null,
   "metadata": {},
   "outputs": [],
   "source": []
  }
 ],
 "metadata": {
  "kernelspec": {
   "display_name": "Candid (new)",
   "language": "python",
   "name": "candid2"
  },
  "language_info": {
   "codemirror_mode": {
    "name": "ipython",
    "version": 3
   },
   "file_extension": ".py",
   "mimetype": "text/x-python",
   "name": "python",
   "nbconvert_exporter": "python",
   "pygments_lexer": "ipython3",
   "version": "3.6.9"
  }
 },
 "nbformat": 4,
 "nbformat_minor": 4
}
