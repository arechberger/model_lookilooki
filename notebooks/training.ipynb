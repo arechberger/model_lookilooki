{
 "cells": [
  {
   "cell_type": "markdown",
   "metadata": {},
   "source": [
    "## Training a CNN on synthetic data with vanilla pytorch (no fastai functionality)\n",
    "\n",
    "- defining a new model from scratch\n",
    "- creating a dataloader\n",
    "- define loss function and optimizer\n",
    "- create the trainingloop"
   ]
  },
  {
   "cell_type": "code",
   "execution_count": 2,
   "metadata": {},
   "outputs": [],
   "source": [
    "import matplotlib.pyplot as plt\n",
    "import numpy as np"
   ]
  },
  {
   "cell_type": "code",
   "execution_count": 3,
   "metadata": {},
   "outputs": [],
   "source": [
    "import pickle #seriealizing and deserializing data in python\n",
    "import bz2 #for zipping data, we do this because we keep the data in a git repository for simplicity\n",
    "traindata = pickle.load(bz2.BZ2File('../data/train.pickle.bz2','r'))"
   ]
  },
  {
   "cell_type": "markdown",
   "metadata": {},
   "source": [
    "For educational purposes we would like to train a CNN based classifier to distinguish 4 different classes. Images (128x128) showing four dots and a pyramid that can point in any of the four directions (up,down,left,right). The positions of these elements are purely random. In total we have a dataset of 3200 images"
   ]
  },
  {
   "cell_type": "code",
   "execution_count": 4,
   "metadata": {},
   "outputs": [
    {
     "data": {
      "image/png": "[encoded data removed]",
      "text/plain": [
       "<Figure size 720x360 with 4 Axes>"
      ]
     },
     "metadata": {
      "needs_background": "light"
     },
     "output_type": "display_data"
    }
   ],
   "source": [
    "plt.figure(figsize=(10,5))\n",
    "for i in range(4):\n",
    "    plt.subplot(1,4,i+1)\n",
    "    plt.imshow(traindata[800*i][0], cmap='gray')"
   ]
  },
  {
   "cell_type": "code",
   "execution_count": 5,
   "metadata": {},
   "outputs": [],
   "source": [
    "import torch\n",
    "import torch.nn as nn\n",
    "from torch.utils.data import Dataset, DataLoader\n",
    "import torch.optim as optim"
   ]
  },
  {
   "cell_type": "markdown",
   "metadata": {},
   "source": [
    "Defining a model in Pytorch:"
   ]
  },
  {
   "cell_type": "code",
   "execution_count": 6,
   "metadata": {},
   "outputs": [],
   "source": [
    "class LukeConvBlock(nn.Module):\n",
    "    def __init__(self, insize, outsize, batchnorm=True, cn_dropout=0):\n",
    "        super().__init__()\n",
    "        self.insize = insize\n",
    "        self.outsize = outsize\n",
    "        self.batchnorm = batchnorm\n",
    "        block  = []\n",
    "        block.append(nn.Conv2d(insize, outsize, kernel_size=3, padding=1))\n",
    "        block.append(nn.ReLU(inplace=True))\n",
    "        if batchnorm:\n",
    "            block.append(nn.BatchNorm2d(outsize))\n",
    "        if cn_dropout>0:\n",
    "            block.append(nn.Dropout2d(cn_dropout))\n",
    "        block.append(nn.Conv2d(outsize, outsize, kernel_size=3, padding=1))\n",
    "        block.append(nn.ReLU(inplace=True))\n",
    "        if batchnorm:\n",
    "            block.append(nn.BatchNorm2d(outsize))\n",
    "        if cn_dropout>0:\n",
    "            block.append(nn.Dropout2d(cn_dropout))\n",
    "        block.append(nn.MaxPool2d(2))\n",
    "        self.block = nn.Sequential(*block)\n",
    "        \n",
    "    def forward(self, x):\n",
    "        return self.block(x)\n",
    "        \n",
    "                     \n",
    "class Luke(nn.Module):    \n",
    "    def __init__(self, fl_features=16, channels=1, depth=3, batchnorm=True, cn_dropout=0):\n",
    "        super().__init__()\n",
    "        \n",
    "        cnn_seq = []\n",
    "        cnn_seq.append(LukeConvBlock(channels,fl_features,batchnorm,cn_dropout=cn_dropout))\n",
    "        for i in range(depth-1):\n",
    "            cnn_seq.append(LukeConvBlock(fl_features*2**(i),fl_features*2**(i+1),batchnorm,cn_dropout=cn_dropout))\n",
    "\n",
    "        cnn_seq[-1].block[-1] = nn.AdaptiveAvgPool2d(output_size=(7, 7))\n",
    "        self.cnn_seq = nn.Sequential(*cnn_seq)\n",
    "        self.nfeat_afterconv = 7*7*fl_features*2**(i+1)\n",
    "        classifier = []\n",
    "        classifier.append(nn.Linear(self.nfeat_afterconv,2000))\n",
    "        classifier.append(nn.ReLU(inplace=True))\n",
    "        if batchnorm:\n",
    "            classifier.append(nn.BatchNorm1d(2000))\n",
    "        classifier.append(nn.Linear(2000,1000))\n",
    "        classifier.append(nn.ReLU(inplace=True))\n",
    "        if batchnorm:\n",
    "            classifier.append(nn.BatchNorm1d(1000))\n",
    "        classifier.append(nn.Linear(1000,4))\n",
    "        self.classifier = nn.Sequential(*classifier)\n",
    "        \n",
    "    def forward(self, x):\n",
    "        x = self.cnn_seq(x)\n",
    "        x = x.view(-1,self.nfeat_afterconv)\n",
    "        return self.classifier(x)"
   ]
  },
  {
   "cell_type": "markdown",
   "metadata": {},
   "source": [
    "In pytorch we need to provide a Dataset object from which a dataloader can draw data (calling the getitem function)"
   ]
  },
  {
   "cell_type": "code",
   "execution_count": 7,
   "metadata": {},
   "outputs": [],
   "source": [
    "class Dataset2d(Dataset):\n",
    "    def __init__(self, ds):\n",
    "        self.ds = ds\n",
    "\n",
    "    def __len__(self):\n",
    "        return len(self.ds)\n",
    "    \n",
    "    def __getitem__(self, idx):\n",
    "        # online data augmentation would go here\n",
    "        return self.ds[idx]"
   ]
  },
  {
   "cell_type": "code",
   "execution_count": 8,
   "metadata": {},
   "outputs": [],
   "source": [
    "import random\n",
    "import math\n",
    "random.shuffle(traindata)\n",
    "\n",
    "# splitting the data into training and validation\n",
    "validation_data = traindata[0:math.floor(len(traindata)*0.1)]\n",
    "traindata = traindata[math.floor(len(traindata)*0.1):]\n",
    "\n",
    "# creating the dataset objects\n",
    "train_ds = Dataset2d(traindata)\n",
    "vali_ds = Dataset2d(validation_data)\n",
    "\n",
    "# creating the train loader\n",
    "trainloader = DataLoader(train_ds, batch_size=20, shuffle=True, num_workers=4, pin_memory=True)\n",
    "validationloader = DataLoader(vali_ds, batch_size=20, shuffle=False, num_workers=4, pin_memory=True)"
   ]
  },
  {
   "cell_type": "markdown",
   "metadata": {},
   "source": [
    "now we create the model, define the optmizer and the loss function"
   ]
  },
  {
   "cell_type": "code",
   "execution_count": 14,
   "metadata": {},
   "outputs": [],
   "source": [
    "device = torch.device('cuda' if torch.cuda.is_available() else 'cpu')\n",
    "model = Luke(cn_dropout=0.05).to(device)\n",
    "epochs = 30\n",
    "optimizer = optim.SGD(model.parameters(), lr=0.001, momentum=0.9)\n",
    "criterion = nn.CrossEntropyLoss()"
   ]
  },
  {
   "cell_type": "code",
   "execution_count": 15,
   "metadata": {},
   "outputs": [],
   "source": [
    "#  model"
   ]
  },
  {
   "cell_type": "markdown",
   "metadata": {},
   "source": [
    "minimum training loop"
   ]
  },
  {
   "cell_type": "code",
   "execution_count": 16,
   "metadata": {},
   "outputs": [],
   "source": [
    "# for epoch in range(epochs):\n",
    "#     for data in trainloader:\n",
    "#         inputs, labels = data\n",
    "#         inputs = inputs[:,None,:,:].float().to(device) \n",
    "#         labels = labels.long().to(device)\n",
    "#         outputs = model(inputs)\n",
    "#         loss = criterion(outputs, labels)\n",
    "#         optimizer.zero_grad()\n",
    "#         loss.backward()\n",
    "#         optimizer.step()\n",
    "#         print('\\r Epoch: %d, Loss: %.3f' % (epoch, loss.item()), end = '')"
   ]
  },
  {
   "cell_type": "code",
   "execution_count": 17,
   "metadata": {},
   "outputs": [],
   "source": [
    "from livelossplot import PlotLosses"
   ]
  },
  {
   "cell_type": "markdown",
   "metadata": {},
   "source": [
    "Beyond a minimum training loop we would like to get metrics about the validation set and would like to observ the training progress. livelossplot is a minimalistic (compared to tensorboard) library to achieve this. "
   ]
  },
  {
   "cell_type": "code",
   "execution_count": 18,
   "metadata": {},
   "outputs": [
    {
     "data": {
      "image/png": "[encoded data removed]",
      "text/plain": [
       "<Figure size 864x576 with 2 Axes>"
      ]
     },
     "metadata": {
      "needs_background": "light"
     },
     "output_type": "display_data"
    },
    {
     "name": "stdout",
     "output_type": "stream",
     "text": [
      "loss:\n",
      "training   (min:    0.017, max:    1.522, cur:    0.017)\n",
      "validation (min:    0.093, max:    1.120, cur:    0.103)\n",
      "\n",
      "accuracy:\n",
      "training   (min:    0.303, max:    0.995, cur:    0.995)\n",
      "validation (min:    0.438, max:    0.978, cur:    0.978)\n"
     ]
    }
   ],
   "source": [
    "liveloss = PlotLosses(skip_first=0)\n",
    "for epoch in range(epochs):\n",
    "    running_loss = 0\n",
    "    running_correct = 0\n",
    "    validation_correct = 0\n",
    "    validation_loss = 0\n",
    "    cnt = 0\n",
    "    logs={}\n",
    "    for i, data in enumerate(trainloader):\n",
    "        model.train()\n",
    "        inputs, labels = data\n",
    "        inputs = inputs[:,None,:,:].float().to(device) \n",
    "        outputs = model(inputs)\n",
    "        labels = labels.long().to(device)\n",
    "        loss = criterion(outputs, labels)\n",
    "        optimizer.zero_grad()\n",
    "        loss.backward()\n",
    "#         plot_grad_flow(model.named_parameters())\n",
    "        optimizer.step()\n",
    "        running_loss += loss.item()\n",
    "        running_correct += torch.sum(outputs.argmax(1) == labels).item()\n",
    "        cnt += len(labels)\n",
    "        print('\\r[%d, %5d] Train_loss: %.3f' %(epoch + 1, i + 1, running_loss/(i+1)),end='')\n",
    "    logs['loss'] = running_loss/(i+1)\n",
    "    logs['accuracy'] = running_correct/cnt\n",
    "    cnt = 0\n",
    "    for i, data2 in enumerate(validationloader):\n",
    "        model.eval()\n",
    "        with torch.no_grad():\n",
    "            inputs, labels = data2\n",
    "            inputs = inputs[:,None,:,:].float().to(device) \n",
    "            labels = labels[:].long().to(device)\n",
    "            outputs = model(inputs)\n",
    "            loss = criterion(outputs, labels)\n",
    "            validation_loss += loss.item()\n",
    "            validation_correct += torch.sum(outputs.argmax(1) == labels).item()\n",
    "            cnt += len(labels)\n",
    "        \n",
    "    logs['val_loss'] = validation_loss/(i+1)\n",
    "    logs['val_accuracy'] = validation_correct/cnt\n",
    "    liveloss.update(logs)\n",
    "    liveloss.draw()"
   ]
  },
  {
   "cell_type": "code",
   "execution_count": 31,
   "metadata": {},
   "outputs": [],
   "source": [
    "def plot_grad_flow(named_parameters):\n",
    "    ave_grads = []\n",
    "    layers = []\n",
    "    for n, p in named_parameters:\n",
    "        if(p.requires_grad) and (\"bias\" not in n):\n",
    "            layers.append(n)\n",
    "            ave_grads.append(p.grad.abs().mean())\n",
    "    plt.plot(ave_grads, alpha=0.3, color=\"b\")\n",
    "    plt.hlines(0, 0, len(ave_grads)+1, linewidth=1, color=\"k\" )\n",
    "    plt.xticks(range(0,len(ave_grads), 1), layers, rotation=\"vertical\")\n",
    "    plt.xlim(xmin=0, xmax=len(ave_grads))\n",
    "    plt.xlabel(\"Layers\")\n",
    "    plt.ylabel(\"average gradient\")\n",
    "    plt.title(\"Gradient flow\")\n",
    "    plt.grid(True)"
   ]
  },
  {
   "cell_type": "code",
   "execution_count": null,
   "metadata": {},
   "outputs": [],
   "source": [
    "model(troch.Tensor(traindata[3200][None,None,:,:]))"
   ]
  }
 ],
 "metadata": {
  "kernelspec": {
   "display_name": "Candid (new)",
   "language": "python",
   "name": "candid2"
  },
  "language_info": {
   "codemirror_mode": {
    "name": "ipython",
    "version": 3
   },
   "file_extension": ".py",
   "mimetype": "text/x-python",
   "name": "python",
   "nbconvert_exporter": "python",
   "pygments_lexer": "ipython3",
   "version": "3.6.9"
  }
 },
 "nbformat": 4,
 "nbformat_minor": 4
}
