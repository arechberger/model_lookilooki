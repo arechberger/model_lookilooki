{
 "cells": [
  {
   "cell_type": "markdown",
   "metadata": {},
   "source": [
    "## Using the Tracking API"
   ]
  },
  {
   "cell_type": "code",
   "execution_count": 1,
   "metadata": {
    "ExecuteTime": {
     "end_time": "2019-11-16T19:01:20.183000Z",
     "start_time": "2019-11-16T19:01:19.288453Z"
    }
   },
   "outputs": [],
   "source": [
    "import os\n",
    "import mlflow"
   ]
  },
  {
   "cell_type": "markdown",
   "metadata": {},
   "source": [
    "### Log to local directory"
   ]
  },
  {
   "cell_type": "code",
   "execution_count": 2,
   "metadata": {
    "ExecuteTime": {
     "end_time": "2019-11-16T19:01:20.227708Z",
     "start_time": "2019-11-16T19:01:20.194121Z"
    }
   },
   "outputs": [
    {
     "data": {
      "text/plain": [
       "'file:///Users/albert_rechberger/dev/model_lookilooki/notebooks/mlruns'"
      ]
     },
     "execution_count": 2,
     "metadata": {},
     "output_type": "execute_result"
    }
   ],
   "source": [
    "mlflow.get_tracking_uri()"
   ]
  },
  {
   "cell_type": "code",
   "execution_count": 3,
   "metadata": {
    "ExecuteTime": {
     "end_time": "2019-11-16T19:01:20.277036Z",
     "start_time": "2019-11-16T19:01:20.259515Z"
    }
   },
   "outputs": [],
   "source": [
    "mlflow.set_experiment(\"mlflow_demo\")"
   ]
  },
  {
   "cell_type": "code",
   "execution_count": 4,
   "metadata": {
    "ExecuteTime": {
     "end_time": "2019-11-16T19:01:20.717976Z",
     "start_time": "2019-11-16T19:01:20.294180Z"
    }
   },
   "outputs": [],
   "source": [
    "with mlflow.start_run(run_name=\"first\"):\n",
    "    mlflow.log_param(\"alpha\", 1)\n",
    "    mlflow.log_param(\"beta\", 2)\n",
    "    mlflow.log_param(\"param_str\", \"value\")\n",
    "\n",
    "    # Log a metric; metrics can be updated throughout the run\n",
    "    for i in range(1, 10):\n",
    "        mlflow.log_metric(\"loss\", 1/i, step=i)\n",
    "\n",
    "    # Log an artifact (output file)\n",
    "    with open(\"output.txt\", \"w\") as f:\n",
    "        f.write(\"Hello, I'm an artifact!\")\n",
    "    mlflow.log_artifact(\"output.txt\")\n"
   ]
  },
  {
   "cell_type": "code",
   "execution_count": 5,
   "metadata": {
    "ExecuteTime": {
     "end_time": "2019-11-16T19:01:21.062483Z",
     "start_time": "2019-11-16T19:01:20.721597Z"
    }
   },
   "outputs": [],
   "source": [
    "with mlflow.start_run(run_name=\"second\"):\n",
    "    mlflow.log_param(\"alpha\", 2)\n",
    "    mlflow.log_param(\"beta\", 3)\n",
    "    mlflow.log_param(\"param_str\", \"value\")\n",
    "\n",
    "    # Log a metric; metrics can be updated throughout the run\n",
    "    for i in range(1, 10):\n",
    "        mlflow.log_metric(\"loss\", 2/i, step=i)\n",
    "\n",
    "    # Log an artifact (output file)\n",
    "    with open(\"output.txt\", \"w\") as f:\n",
    "        f.write(\"Hello, I'm another artifact!\")\n",
    "    mlflow.log_artifact(\"output.txt\")"
   ]
  },
  {
   "cell_type": "markdown",
   "metadata": {},
   "source": [
    "### Log to remote tracking server\n",
    "\n",
    "To try this out I've set up a remote server at a cloud provider.\n",
    "notes are in in `..notes/mlflow.md`"
   ]
  },
  {
   "cell_type": "code",
   "execution_count": 6,
   "metadata": {
    "ExecuteTime": {
     "end_time": "2019-11-16T19:01:21.163310Z",
     "start_time": "2019-11-16T19:01:21.065745Z"
    }
   },
   "outputs": [],
   "source": [
    "mlflow.set_tracking_uri(\"http://lookilooki.root.sx:8000\")\n",
    "mlflow.set_experiment(\"mlflow_demo2\")\n"
   ]
  },
  {
   "cell_type": "code",
   "execution_count": 7,
   "metadata": {
    "ExecuteTime": {
     "end_time": "2019-11-16T19:01:21.180916Z",
     "start_time": "2019-11-16T19:01:21.167029Z"
    }
   },
   "outputs": [
    {
     "data": {
      "text/plain": [
       "'http://lookilooki.root.sx:8000'"
      ]
     },
     "execution_count": 7,
     "metadata": {},
     "output_type": "execute_result"
    }
   ],
   "source": [
    "mlflow.get_tracking_uri()"
   ]
  },
  {
   "cell_type": "code",
   "execution_count": 11,
   "metadata": {
    "ExecuteTime": {
     "end_time": "2019-11-16T19:05:38.691293Z",
     "start_time": "2019-11-16T19:05:37.481074Z"
    }
   },
   "outputs": [],
   "source": [
    "with mlflow.start_run(run_name=\"fist\"):\n",
    "    mlflow.log_param(\"alpha\", 1)\n",
    "    mlflow.log_param(\"beta\", 2)\n",
    "    mlflow.log_param(\"param_str\", \"value\")\n",
    "\n",
    "    # Log a metric; metrics can be updated throughout the run\n",
    "    for i in range(1, 10):\n",
    "        mlflow.log_metric(\"loss\", 1/i, step=i)\n",
    "\n",
    "    # Log an artifact (output file)\n",
    "    with open(\"output.txt\", \"w\") as f:\n",
    "        f.write(\"Hello, I'm an artifact!\")\n",
    "#    mlflow.log_artifact(\"output.txt\")\n"
   ]
  },
  {
   "cell_type": "markdown",
   "metadata": {},
   "source": [
    "**Artifacts don't work currently. Some problem with sftp setup.**"
   ]
  }
 ],
 "metadata": {
  "kernelspec": {
   "display_name": "model_lookilooki",
   "language": "python",
   "name": "model_lookilooki"
  },
  "language_info": {
   "codemirror_mode": {
    "name": "ipython",
    "version": 3
   },
   "file_extension": ".py",
   "mimetype": "text/x-python",
   "name": "python",
   "nbconvert_exporter": "python",
   "pygments_lexer": "ipython3",
   "version": "3.7.5"
  },
  "toc": {
   "base_numbering": 1,
   "nav_menu": {},
   "number_sections": true,
   "sideBar": true,
   "skip_h1_title": false,
   "title_cell": "Table of Contents",
   "title_sidebar": "Contents",
   "toc_cell": false,
   "toc_position": {},
   "toc_section_display": true,
   "toc_window_display": false
  }
 },
 "nbformat": 4,
 "nbformat_minor": 2
}
