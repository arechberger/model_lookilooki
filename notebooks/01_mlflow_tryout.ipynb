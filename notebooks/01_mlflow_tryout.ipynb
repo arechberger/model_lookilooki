{
 "cells": [
  {
   "cell_type": "markdown",
   "metadata": {},
   "source": [
    "## Using the Tracking API"
   ]
  },
  {
   "cell_type": "code",
   "execution_count": null,
   "metadata": {
    "ExecuteTime": {
     "end_time": "2019-11-19T19:55:14.439617Z",
     "start_time": "2019-11-19T19:55:13.575237Z"
    }
   },
   "outputs": [],
   "source": [
    "import os\n",
    "import mlflow"
   ]
  },
  {
   "cell_type": "markdown",
   "metadata": {},
   "source": [
    "### Getting started"
   ]
  },
  {
   "cell_type": "code",
   "execution_count": null,
   "metadata": {
    "ExecuteTime": {
     "end_time": "2019-11-19T19:55:19.992351Z",
     "start_time": "2019-11-19T19:55:19.982033Z"
    }
   },
   "outputs": [],
   "source": [
    "mlflow.set_experiment(\"mlflow_demo\")"
   ]
  },
  {
   "cell_type": "code",
   "execution_count": null,
   "metadata": {
    "ExecuteTime": {
     "end_time": "2019-11-19T19:40:44.733803Z",
     "start_time": "2019-11-19T19:40:44.226222Z"
    }
   },
   "outputs": [],
   "source": [
    "with mlflow.start_run(run_name=\"first\"):\n",
    "    mlflow.log_param(\"alpha\", 1)\n",
    "    mlflow.log_param(\"beta\", 2)\n",
    "    mlflow.log_param(\"param_str\", \"value\")\n",
    "\n",
    "    # Log a metric; metrics can be updated throughout the run\n",
    "    for i in range(1, 10):\n",
    "        mlflow.log_metric(\"loss\", 1 / i, step=i)\n",
    "        mlflow.log_metric(\"accuracy\", (i - 1) / 10, step=i)\n",
    "\n",
    "    # Log an artifact (output file)\n",
    "    with open(\"output.txt\", \"w\") as f:\n",
    "        f.write(\"Hello, I'm an artifact - I could be anything!\")\n",
    "    mlflow.log_artifact(\"output.txt\")"
   ]
  },
  {
   "cell_type": "code",
   "execution_count": null,
   "metadata": {
    "ExecuteTime": {
     "end_time": "2019-11-19T19:44:23.763774Z",
     "start_time": "2019-11-19T19:44:22.309971Z"
    }
   },
   "outputs": [],
   "source": [
    "with mlflow.start_run(run_name=\"second\"):\n",
    "    mlflow.log_param(\"alpha\", 2)\n",
    "    mlflow.log_param(\"beta\", 3)\n",
    "    mlflow.log_param(\"param_str\", \"value\")\n",
    "\n",
    "    # Log a metric; metrics can be updated throughout the run\n",
    "    for i in range(1, 10):\n",
    "        mlflow.log_metric(\"loss\", .7/i, step=i)\n",
    "        mlflow.log_metric(\"accuracy\", i/10, step=i)\n",
    "\n",
    "    # Log an artifact (output file)\n",
    "    with open(\"output.txt\", \"w\") as f:\n",
    "        f.write(\"Hello, I'm another artifact!\")\n",
    "    mlflow.log_artifact(\"output.txt\")"
   ]
  },
  {
   "cell_type": "code",
   "execution_count": null,
   "metadata": {
    "ExecuteTime": {
     "end_time": "2019-11-19T19:52:54.802771Z",
     "start_time": "2019-11-19T19:52:54.796211Z"
    }
   },
   "outputs": [],
   "source": [
    "mlflow.get_tracking_uri()"
   ]
  },
  {
   "cell_type": "markdown",
   "metadata": {},
   "source": [
    "### Log to remote tracking server\n",
    "\n",
    "To try this out I've set up a remote server at a cloud provider.\n",
    "notes are in in `..notes/mlflow.md`"
   ]
  },
  {
   "cell_type": "code",
   "execution_count": null,
   "metadata": {
    "ExecuteTime": {
     "end_time": "2019-11-19T19:46:14.880414Z",
     "start_time": "2019-11-19T19:46:14.750779Z"
    }
   },
   "outputs": [],
   "source": [
    "mlflow.set_tracking_uri(\"http://lookilooki.root.sx:8000\")\n",
    "# could also be set using the env variable `MLFLOW_TRACKING_URI`\n",
    "mlflow.set_experiment(\"mlflow_demo_1\")\n"
   ]
  },
  {
   "cell_type": "code",
   "execution_count": null,
   "metadata": {
    "ExecuteTime": {
     "end_time": "2019-11-19T19:46:15.108240Z",
     "start_time": "2019-11-19T19:46:15.090458Z"
    }
   },
   "outputs": [],
   "source": [
    "mlflow.get_tracking_uri()"
   ]
  },
  {
   "cell_type": "code",
   "execution_count": null,
   "metadata": {
    "ExecuteTime": {
     "end_time": "2019-11-19T19:46:19.065688Z",
     "start_time": "2019-11-19T19:46:15.820995Z"
    }
   },
   "outputs": [],
   "source": [
    "with mlflow.start_run(run_name=\"fist\"):\n",
    "    mlflow.log_param(\"alpha\", 1)\n",
    "    mlflow.log_param(\"beta\", 2)\n",
    "    mlflow.log_param(\"param_str\", \"value\")\n",
    "\n",
    "    # Log a metric; metrics can be updated throughout the run\n",
    "    for i in range(1, 10):\n",
    "        mlflow.log_metric(\"loss\", 1/i, step=i)\n",
    "\n",
    "    # Log an artifact (output file)\n",
    "    with open(\"output.txt\", \"w\") as f:\n",
    "        f.write(\"Hello, I'm an artifact!\")\n",
    "    mlflow.log_artifact(\"output.txt\")\n"
   ]
  },
  {
   "cell_type": "code",
   "execution_count": null,
   "metadata": {
    "ExecuteTime": {
     "end_time": "2019-11-19T19:46:24.421567Z",
     "start_time": "2019-11-19T19:46:20.318303Z"
    }
   },
   "outputs": [],
   "source": [
    "with mlflow.start_run(run_name=\"second\"):\n",
    "    mlflow.log_param(\"alpha\", 2)\n",
    "    mlflow.log_param(\"beta\", 3)\n",
    "    mlflow.log_param(\"param_str\", \"value\")\n",
    "\n",
    "    # Log a metric; metrics can be updated throughout the run\n",
    "    for i in range(1, 10):\n",
    "        mlflow.log_metric(\"loss\", .7/i, step=i)\n",
    "        mlflow.log_metric(\"accuracy\", i/10, step=i)\n",
    "\n",
    "    # Log an artifact (output file)\n",
    "    with open(\"output.txt\", \"w\") as f:\n",
    "        f.write(\"Hello, I'm another artifact!\")\n",
    "    mlflow.log_artifact(\"output.txt\")"
   ]
  },
  {
   "cell_type": "code",
   "execution_count": null,
   "metadata": {
    "ExecuteTime": {
     "end_time": "2019-11-19T19:52:14.069259Z",
     "start_time": "2019-11-19T19:52:13.926165Z"
    }
   },
   "outputs": [],
   "source": [
    "mlflow.get_artifact_uri()"
   ]
  }
 ],
 "metadata": {
  "kernelspec": {
   "display_name": "model_lookilooki",
   "language": "python",
   "name": "model_lookilooki"
  },
  "language_info": {
   "codemirror_mode": {
    "name": "ipython",
    "version": 3
   },
   "file_extension": ".py",
   "mimetype": "text/x-python",
   "name": "python",
   "nbconvert_exporter": "python",
   "pygments_lexer": "ipython3",
   "version": "3.7.5"
  },
  "toc": {
   "base_numbering": 1,
   "nav_menu": {},
   "number_sections": true,
   "sideBar": true,
   "skip_h1_title": false,
   "title_cell": "Table of Contents",
   "title_sidebar": "Contents",
   "toc_cell": false,
   "toc_position": {},
   "toc_section_display": true,
   "toc_window_display": false
  }
 },
 "nbformat": 4,
 "nbformat_minor": 2
}
